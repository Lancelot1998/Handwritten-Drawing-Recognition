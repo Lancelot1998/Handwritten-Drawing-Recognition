{
 "cells": [
  {
   "cell_type": "code",
   "execution_count": 35,
   "metadata": {},
   "outputs": [],
   "source": [
    "import tensorflow as tf\n",
    "import os\n",
    "import numpy as np\n",
    "import matplotlib.pyplot as plt\n",
    "import pickle\n",
    "import pandas as pd\n",
    "\n",
    "%matplotlib inline\n",
    "\n",
    "cwd = os.getcwd()"
   ]
  },
  {
   "cell_type": "code",
   "execution_count": 36,
   "metadata": {},
   "outputs": [],
   "source": [
    "datapath = os.path.join(cwd, \"..\", \"data\")"
   ]
  },
  {
   "cell_type": "code",
   "execution_count": 37,
   "metadata": {},
   "outputs": [
    {
     "data": {
      "text/plain": [
       "15"
      ]
     },
     "execution_count": 37,
     "metadata": {},
     "output_type": "execute_result"
    }
   ],
   "source": [
    "from os import listdir\n",
    "from os.path import isfile, join\n",
    "\n",
    "img_rows, img_cols = 28, 28\n",
    "\n",
    "data_dir = os.path.join(cwd, \"..\", \"data\")\n",
    "model_dir = os.path.join(cwd, \"..\", \"model\")\n",
    "\n",
    "file_list = [f for f in listdir(datapath) if isfile(join(datapath, f))]\n",
    "\n",
    "file_list_df = pd.DataFrame(file_list, columns = [ \"Filename\"] )\n",
    "\n",
    "LABELS = []\n",
    "for index, row in file_list_df.iterrows():\n",
    "    if row[\"Filename\"] != '.gitkeep' and row[\"Filename\"] != 'test.pickle' and row[\"Filename\"] != 'train.pickle':\n",
    "        name_label = os.path.splitext(row[\"Filename\"])[0]\n",
    "        labl = name_label.split('_')[3]\n",
    "        LABELS.append(labl) \n",
    "\n",
    "LABELS\n",
    "\n",
    "#LABELS = np.array(\n",
    "#    map(\n",
    "#        (lambda x : x.replace(\".npy\", \"\")),\n",
    "#        filter(lambda x: x.endswith('.npy'), os.listdir(data_dir))\n",
    "#    )\n",
    "#)\n",
    "\n",
    "#num_classes = LABELS.shape\n",
    "num_classes = len(LABELS)\n",
    "len(LABELS)\n",
    "#num_classes\n",
    "#len(LABELS)\n",
    "#len(LABELS[:,1])\n",
    "#len(LABELS[1,:])"
   ]
  },
  {
   "cell_type": "code",
   "execution_count": 46,
   "metadata": {},
   "outputs": [
    {
     "data": {
      "text/plain": [
       "['butterfly',\n",
       " 'cake',\n",
       " 'cat',\n",
       " 'dog',\n",
       " 'dolphin',\n",
       " 'fish',\n",
       " 'flower',\n",
       " 'hot air balloon',\n",
       " 'key',\n",
       " 'keyboard',\n",
       " 'lollipop',\n",
       " 'star',\n",
       " 'stethoscope',\n",
       " 'tree',\n",
       " 'violin']"
      ]
     },
     "execution_count": 46,
     "metadata": {},
     "output_type": "execute_result"
    }
   ],
   "source": [
    "LABELS"
   ]
  },
  {
   "cell_type": "code",
   "execution_count": 38,
   "metadata": {},
   "outputs": [],
   "source": [
    "def data_prepare():\n",
    "    datas_path = filter(lambda x: x.endswith('.npy'), os.listdir(data_dir))\n",
    "    print(datas_path)\n",
    "    dataset = np.array([]).reshape(0, img_rows * img_cols + 1)\n",
    "    \n",
    "    for i, d_path in enumerate(datas_path):\n",
    "        data = np.load(os.path.join(data_dir, d_path))\n",
    "        image_size = len(data)\n",
    "        label = np.ones(image_size, dtype=int) * i\n",
    "        data = np.concatenate((label[:, np.newaxis], data), axis=1)\n",
    "        \n",
    "        np.random.shuffle(data)\n",
    "\n",
    "        dataset = np.append(dataset, data[0:5000], axis=0)\n",
    "        print(\"Load {}\".format(d_path))\n",
    "    \n",
    "    np.random.shuffle(dataset)\n",
    "    dataset_len = len(dataset)\n",
    "    split_x = (int)(dataset_len * 0.9)\n",
    "    \n",
    "    print(\"Dataset {} images\".format(dataset_len))\n",
    "    print(\"Train {} images\".format(split_x))\n",
    "    print(\"Test {} images\".format(dataset_len - split_x))\n",
    "    \n",
    "    print(\"Write data to pickle files...\")\n",
    "    \n",
    "    pickle.dump(dataset[0:split_x], open(os.path.join(data_dir, \"train.pickle\"), \"wb\"))\n",
    "    pickle.dump(dataset[split_x:-1], open(os.path.join(data_dir, \"test.pickle\"), \"wb\"))\n",
    "    \n",
    "    print(\"Finish\")\n"
   ]
  },
  {
   "cell_type": "code",
   "execution_count": 39,
   "metadata": {},
   "outputs": [],
   "source": [
    "\n",
    "if not os.path.exists(os.path.join(data_dir, \"train.pickle\")):\n",
    "    print(\"Prepare pickle data\")\n",
    "    data_prepare()"
   ]
  },
  {
   "cell_type": "code",
   "execution_count": 40,
   "metadata": {},
   "outputs": [
    {
     "name": "stdout",
     "output_type": "stream",
     "text": [
      "Load dataset complete\n"
     ]
    }
   ],
   "source": [
    "x_train = None\n",
    "y_train = None\n",
    "x_test = None\n",
    "y_test = None\n",
    "\n",
    "def load_dataset():\n",
    "    global x_train, y_train, x_test, y_test\n",
    "    train_data = pickle.load(open(os.path.join(data_dir, \"train.pickle\"), \"rb\"))\n",
    "    test_data = pickle.load(open(os.path.join(data_dir, \"test.pickle\"), \"rb\"))\n",
    "    x_train = train_data[:,1:]\n",
    "    y_train = train_data[:,0]\n",
    "    x_test = test_data[:,1:]\n",
    "    y_test = test_data[:,0]\n",
    "    print(\"Load dataset complete\")\n",
    "\n",
    "load_dataset()"
   ]
  },
  {
   "cell_type": "code",
   "execution_count": 41,
   "metadata": {},
   "outputs": [],
   "source": [
    "#LABELS = [ 'stethoscope', 'flower', 'dog', 'key', 'dolphin', 'butterfly', 'cake', 'lollipop', 'key board', 'tree', 'fish', 'ant', \n",
    "#         'violin', 'fish', 'cat']"
   ]
  },
  {
   "cell_type": "code",
   "execution_count": 42,
   "metadata": {},
   "outputs": [
    {
     "data": {
      "image/png": "[encoded data removed]",
      "text/plain": [
       "<Figure size 432x288 with 1 Axes>"
      ]
     },
     "metadata": {
      "needs_background": "light"
     },
     "output_type": "display_data"
    },
    {
     "data": {
      "image/png": "[encoded data removed]",
      "text/plain": [
       "<Figure size 432x288 with 1 Axes>"
      ]
     },
     "metadata": {
      "needs_background": "light"
     },
     "output_type": "display_data"
    },
    {
     "data": {
      "image/png": "[encoded data removed]",
      "text/plain": [
       "<Figure size 432x288 with 1 Axes>"
      ]
     },
     "metadata": {
      "needs_background": "light"
     },
     "output_type": "display_data"
    },
    {
     "data": {
      "image/png": "[encoded data removed]",
      "text/plain": [
       "<Figure size 432x288 with 1 Axes>"
      ]
     },
     "metadata": {
      "needs_background": "light"
     },
     "output_type": "display_data"
    },
    {
     "data": {
      "image/png": "[encoded data removed]",
      "text/plain": [
       "<Figure size 432x288 with 1 Axes>"
      ]
     },
     "metadata": {
      "needs_background": "light"
     },
     "output_type": "display_data"
    },
    {
     "data": {
      "image/png": "[encoded data removed]",
      "text/plain": [
       "<Figure size 432x288 with 1 Axes>"
      ]
     },
     "metadata": {
      "needs_background": "light"
     },
     "output_type": "display_data"
    },
    {
     "data": {
      "image/png": "[encoded data removed]",
      "text/plain": [
       "<Figure size 432x288 with 1 Axes>"
      ]
     },
     "metadata": {
      "needs_background": "light"
     },
     "output_type": "display_data"
    },
    {
     "data": {
      "image/png": "[encoded data removed]",
      "text/plain": [
       "<Figure size 432x288 with 1 Axes>"
      ]
     },
     "metadata": {
      "needs_background": "light"
     },
     "output_type": "display_data"
    },
    {
     "data": {
      "image/png": "[encoded data removed]",
      "text/plain": [
       "<Figure size 432x288 with 1 Axes>"
      ]
     },
     "metadata": {
      "needs_background": "light"
     },
     "output_type": "display_data"
    },
    {
     "data": {
      "image/png": "[encoded data removed]",
      "text/plain": [
       "<Figure size 432x288 with 1 Axes>"
      ]
     },
     "metadata": {
      "needs_background": "light"
     },
     "output_type": "display_data"
    },
    {
     "data": {
      "image/png": "[encoded data removed]",
      "text/plain": [
       "<Figure size 432x288 with 1 Axes>"
      ]
     },
     "metadata": {
      "needs_background": "light"
     },
     "output_type": "display_data"
    },
    {
     "data": {
      "image/png": "[encoded data removed]",
      "text/plain": [
       "<Figure size 432x288 with 1 Axes>"
      ]
     },
     "metadata": {
      "needs_background": "light"
     },
     "output_type": "display_data"
    },
    {
     "data": {
      "image/png": "[encoded data removed]",
      "text/plain": [
       "<Figure size 432x288 with 1 Axes>"
      ]
     },
     "metadata": {
      "needs_background": "light"
     },
     "output_type": "display_data"
    },
    {
     "data": {
      "image/png": "[encoded data removed]",
      "text/plain": [
       "<Figure size 432x288 with 1 Axes>"
      ]
     },
     "metadata": {
      "needs_background": "light"
     },
     "output_type": "display_data"
    },
    {
     "data": {
      "image/png": "[encoded data removed]",
      "text/plain": [
       "<Figure size 432x288 with 1 Axes>"
      ]
     },
     "metadata": {
      "needs_background": "light"
     },
     "output_type": "display_data"
    }
   ],
   "source": [
    "for i in range(num_classes):\n",
    "    plt.imshow(x_train[i].reshape(28,28))\n",
    "    plt.title(LABELS[(int)(y_train[i])])\n",
    "    plt.show()"
   ]
  },
  {
   "cell_type": "markdown",
   "metadata": {},
   "source": [
    "### Data Prepossing"
   ]
  },
  {
   "cell_type": "code",
   "execution_count": 43,
   "metadata": {},
   "outputs": [],
   "source": [
    "import keras\n",
    "from keras.models import Sequential\n",
    "from keras.layers import Dense, Dropout, Flatten\n",
    "from keras.layers import Conv2D, MaxPooling2D"
   ]
  },
  {
   "cell_type": "code",
   "execution_count": 44,
   "metadata": {},
   "outputs": [
    {
     "name": "stdout",
     "output_type": "stream",
     "text": [
      "(63000, 28, 28, 1)\n",
      "(63000, 15)\n",
      "(6999, 28, 28, 1)\n",
      "(6999, 15)\n"
     ]
    }
   ],
   "source": [
    "x_train = x_train.astype('float32')\n",
    "x_test = x_test.astype('float32')\n",
    "x_train /= 255\n",
    "x_test /= 255\n",
    "x_train = x_train.reshape(x_train.shape[0], img_rows, img_cols, 1)\n",
    "x_test = x_test.reshape(x_test.shape[0], img_rows, img_cols, 1)\n",
    "\n",
    "y_train_onehot = keras.utils.to_categorical(y_train, num_classes)\n",
    "y_test_onehot = keras.utils.to_categorical(y_test, num_classes)\n",
    "\n",
    "print(x_train.shape)\n",
    "print(y_train_onehot.shape)\n",
    "print(x_test.shape)\n",
    "print(y_test_onehot.shape)"
   ]
  },
  {
   "cell_type": "markdown",
   "metadata": {},
   "source": [
    "### Model"
   ]
  },
  {
   "cell_type": "code",
   "execution_count": 45,
   "metadata": {
    "scrolled": true
   },
   "outputs": [
    {
     "name": "stdout",
     "output_type": "stream",
     "text": [
      "Epoch 1/30\n",
      "63000/63000 [==============================] - 88s 1ms/step - loss: 0.7108 - accuracy: 0.7875\n",
      "Epoch 2/30\n",
      "63000/63000 [==============================] - 95s 2ms/step - loss: 0.4379 - accuracy: 0.8689\n",
      "Epoch 3/30\n",
      "63000/63000 [==============================] - 107s 2ms/step - loss: 0.3549 - accuracy: 0.8920\n",
      "Epoch 4/30\n",
      "63000/63000 [==============================] - 94s 1ms/step - loss: 0.3020 - accuracy: 0.9070\n",
      "Epoch 5/30\n",
      "63000/63000 [==============================] - 94s 1ms/step - loss: 0.2592 - accuracy: 0.9189\n",
      "Epoch 6/30\n",
      "63000/63000 [==============================] - 96s 2ms/step - loss: 0.2289 - accuracy: 0.9279\n",
      "Epoch 7/30\n",
      "63000/63000 [==============================] - 103s 2ms/step - loss: 0.1951 - accuracy: 0.9380\n",
      "Epoch 8/30\n",
      "63000/63000 [==============================] - 113s 2ms/step - loss: 0.1760 - accuracy: 0.9437\n",
      "Epoch 9/30\n",
      "63000/63000 [==============================] - 106s 2ms/step - loss: 0.1591 - accuracy: 0.9485\n",
      "Epoch 10/30\n",
      "63000/63000 [==============================] - 100s 2ms/step - loss: 0.1400 - accuracy: 0.9548\n",
      "Epoch 11/30\n",
      "63000/63000 [==============================] - ETA: 0s - loss: 0.1298 - accuracy: 0.95 - 98s 2ms/step - loss: 0.1299 - accuracy: 0.9586\n",
      "Epoch 12/30\n",
      "63000/63000 [==============================] - 98s 2ms/step - loss: 0.1171 - accuracy: 0.9627\n",
      "Epoch 13/30\n",
      "63000/63000 [==============================] - 92s 1ms/step - loss: 0.1088 - accuracy: 0.9647\n",
      "Epoch 14/30\n",
      "63000/63000 [==============================] - 100s 2ms/step - loss: 0.1028 - accuracy: 0.96670s - loss: 0.1028 - accu\n",
      "Epoch 15/30\n",
      "63000/63000 [==============================] - 98s 2ms/step - loss: 0.0925 - accuracy: 0.9699\n",
      "Epoch 16/30\n",
      "63000/63000 [==============================] - 99s 2ms/step - loss: 0.0900 - accuracy: 0.9712\n",
      "Epoch 17/30\n",
      "63000/63000 [==============================] - 98s 2ms/step - loss: 0.0855 - accuracy: 0.9721\n",
      "Epoch 18/30\n",
      "63000/63000 [==============================] - 103s 2ms/step - loss: 0.0813 - accuracy: 0.9745\n",
      "Epoch 19/30\n",
      "63000/63000 [==============================] - 98s 2ms/step - loss: 0.0777 - accuracy: 0.9748\n",
      "Epoch 20/30\n",
      "63000/63000 [==============================] - 113s 2ms/step - loss: 0.0676 - accuracy: 0.9786\n",
      "Epoch 23/30\n",
      "63000/63000 [==============================] - 105s 2ms/step - loss: 0.0607 - accuracy: 0.98122s - los\n",
      "Epoch 26/30\n",
      "63000/63000 [==============================] - 103s 2ms/step - loss: 0.0608 - accuracy: 0.9811\n",
      "Epoch 27/30\n",
      "63000/63000 [==============================] - 107s 2ms/step - loss: 0.0588 - accuracy: 0.9817\n",
      "Epoch 28/30\n",
      "63000/63000 [==============================] - 105s 2ms/step - loss: 0.0599 - accuracy: 0.9821\n"
     ]
    }
   ],
   "source": [
    "model = Sequential()\n",
    "\n",
    "model.add(Conv2D(32, kernel_size=(3, 3), padding='same', activation='relu', input_shape=(img_rows, img_cols, 1)))\n",
    "model.add(MaxPooling2D(pool_size=(2, 2)))\n",
    "model.add(Conv2D(64, kernel_size=(3, 3), padding='same', activation='relu'))\n",
    "model.add(MaxPooling2D(pool_size=(2, 2)))\n",
    "model.add(Dropout(0.25))\n",
    "model.add(Flatten())\n",
    "model.add(Dense(256, activation='relu'))\n",
    "model.add(Dense(256, activation='relu'))\n",
    "model.add(Dropout(0.5))\n",
    "model.add(Dense(num_classes, activation='softmax'))\n",
    "\n",
    "model.compile(\n",
    "    loss=keras.losses.categorical_crossentropy,\n",
    "    optimizer=keras.optimizers.Adam(),\n",
    "    metrics=['accuracy']\n",
    ")\n",
    "\n",
    "model.fit(\n",
    "    x_train, y_train_onehot,\n",
    "    batch_size = 32,\n",
    "    epochs = 30,\n",
    "    verbose = 1\n",
    ")\n",
    "\n",
    "model.save(os.path.join(model_dir, 'model.h5'))"
   ]
  },
  {
   "cell_type": "code",
   "execution_count": 47,
   "metadata": {},
   "outputs": [
    {
     "name": "stdout",
     "output_type": "stream",
     "text": [
      "6999/6999 [==============================] - 1s 197us/step\n",
      "\n",
      "Accuracy 0.9074153304100037\n"
     ]
    }
   ],
   "source": [
    "model = keras.models.load_model(os.path.join(model_dir, 'model.h5'))\n",
    "\n",
    "score = model.evaluate(x_test, y_test_onehot, verbose = 1)\n",
    "print(\"\\nAccuracy {}\".format(score[1]))"
   ]
  },
  {
   "cell_type": "code",
   "execution_count": 48,
   "metadata": {},
   "outputs": [
    {
     "name": "stdout",
     "output_type": "stream",
     "text": [
      "6999/6999 [==============================] - 1s 163us/step\n",
      "\n",
      "[[478   2   3   5   2   1   0   1   0   0   4   1   0   3]\n",
      " [  0 495   2   3   3   1   2   1   9   0   0   1   2   4]\n",
      " [  0   2 428  49   1   2   3   2   0   0   8   3   3   5]\n",
      " [  8   3  57 436   8   2   2   6   0   0   3   5   5   3]\n",
      " [  0   3   6   7 389  28   2   6   3   0   4   5   1   2]\n",
      " [  0   0   1   6  13 455   0   3   0   0   0   4   1   1]\n",
      " [  2   1   1   1   1   1 473  10   2   4   1   4   3   2]\n",
      " [  2   2   2   8   2   5   4 435   2   7   1  12   1  14]\n",
      " [  1   6   2   3   1   1   0   2 463   1   0   1   1   3]\n",
      " [  1   0   2   5   1   1   7  13   0 478   0   1   6   1]\n",
      " [  2   0   6   1   3   1   0   1   0   1 446   2   0   1]\n",
      " [  3   7   7  15  11   6   6   3   3   0   4 442   3  15]\n",
      " [  2   1   4   4   0   1   7   3   0   5   3   3 477   1]\n",
      " [  1   4   2   1   1   1   0  12   1   1   2   5   1 456]]\n"
     ]
    },
    {
     "data": {
      "image/png": "[encoded data removed]",
      "text/plain": [
       "<Figure size 432x288 with 1 Axes>"
      ]
     },
     "metadata": {
      "needs_background": "light"
     },
     "output_type": "display_data"
    }
   ],
   "source": [
    "from sklearn.metrics import confusion_matrix\n",
    "\n",
    "y_pred = np.argmax(model.predict(x_test, verbose=1), axis=1)\n",
    "confusion_matrix = confusion_matrix(y_test.astype(int), y_pred)\n",
    "\n",
    "print()\n",
    "print(confusion_matrix)\n",
    "\n",
    "plt.imshow(confusion_matrix, interpolation='nearest')\n",
    "plt.xticks(np.arange(0,num_classes), LABELS, rotation=90)\n",
    "plt.yticks(np.arange(0,num_classes), LABELS)\n",
    "\n",
    "plt.show()"
   ]
  },
  {
   "cell_type": "code",
   "execution_count": null,
   "metadata": {},
   "outputs": [],
   "source": []
  }
 ],
 "metadata": {
  "kernelspec": {
   "display_name": "Python 3",
   "language": "python",
   "name": "python3"
  },
  "language_info": {
   "codemirror_mode": {
    "name": "ipython",
    "version": 3
   },
   "file_extension": ".py",
   "mimetype": "text/x-python",
   "name": "python",
   "nbconvert_exporter": "python",
   "pygments_lexer": "ipython3",
   "version": "3.6.12"
  }
 },
 "nbformat": 4,
 "nbformat_minor": 2
}
